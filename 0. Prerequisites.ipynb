{
 "cells": [
  {
   "cell_type": "markdown",
   "metadata": {},
   "source": [
    "# Before we start"
   ]
  },
  {
   "cell_type": "markdown",
   "metadata": {},
   "source": [
    "This tutorial on **Unsupervised learning** assumes some Python programming experience, including familiarity with `numpy` and `pandas`, as well as basic understanding of `sklearn`.\n",
    "\n",
    "So, before we move on, let's quickly check these assumptions."
   ]
  },
  {
   "cell_type": "markdown",
   "metadata": {},
   "source": [
    "#### Check the Environment\n",
    "\n",
    "First thing to check is that you have your environment ready and correctly set up.\n",
    "To do so, please execute the following cell, and verify that you can import \n",
    "the main core packages on which this tutorial is built on.\n",
    "\n",
    "**Note**: Specific extra packages will be installed whenever needed."
   ]
  },
  {
   "cell_type": "code",
   "execution_count": 1,
   "metadata": {},
   "outputs": [
    {
     "name": "stdout",
     "output_type": "stream",
     "text": [
      "sklearn 0.23.2\n",
      "numpy 1.19.1\n",
      "scipy 1.5.2\n",
      "pandas 1.0.4\n"
     ]
    }
   ],
   "source": [
    "import numpy as np  # this is a convention\n",
    "import scipy as sp\n",
    "import pandas as pd\n",
    "import sklearn\n",
    "\n",
    "version = lambda p: print(f\"{p.__name__} {p.__version__}\")\n",
    "\n",
    "version(sklearn)  # Important: sklearn version >= 0.22\n",
    "version(np)\n",
    "version(sp)\n",
    "version(pd)  # Important: pandas >= 1.0"
   ]
  },
  {
   "cell_type": "markdown",
   "metadata": {},
   "source": [
    "#### Exercises and Questions\n",
    "\n",
    "Quick and simple exercises to be executed directly in the notebook."
   ]
  },
  {
   "cell_type": "markdown",
   "metadata": {},
   "source": [
    "##### 1. Guess the data type"
   ]
  },
  {
   "cell_type": "code",
   "execution_count": 2,
   "metadata": {},
   "outputs": [],
   "source": [
    "l = [1, 3, 5, 7, 9]\n",
    "\n",
    "# What is the type of l ?\n",
    "# Try to guess it first, then use type(l) to check your answer"
   ]
  },
  {
   "cell_type": "code",
   "execution_count": 3,
   "metadata": {},
   "outputs": [],
   "source": [
    "a = np.array([1, 3, 5, 7, 9])\n",
    "\n",
    "# What is the type of a ?\n",
    "# Try to guess it first, then use type(a) to check your answer"
   ]
  },
  {
   "cell_type": "markdown",
   "metadata": {},
   "source": [
    "##### 2. Spot the Difference\n",
    "\n",
    "If we print `l` and `a`"
   ]
  },
  {
   "cell_type": "code",
   "execution_count": 4,
   "metadata": {},
   "outputs": [
    {
     "name": "stdout",
     "output_type": "stream",
     "text": [
      "[1, 3, 5, 7, 9]\n"
     ]
    }
   ],
   "source": [
    "print(l)"
   ]
  },
  {
   "cell_type": "code",
   "execution_count": 5,
   "metadata": {},
   "outputs": [
    {
     "name": "stdout",
     "output_type": "stream",
     "text": [
      "[1 3 5 7 9]\n"
     ]
    }
   ],
   "source": [
    "print(a)"
   ]
  },
  {
   "cell_type": "markdown",
   "metadata": {},
   "source": [
    "they look very much the same.\n",
    "Is it really so? \n",
    "\n",
    "What are the differences (if any) between `l` and `a`?"
   ]
  },
  {
   "cell_type": "markdown",
   "metadata": {},
   "source": [
    "##### 3. Check and Reply"
   ]
  },
  {
   "cell_type": "code",
   "execution_count": 6,
   "metadata": {},
   "outputs": [],
   "source": [
    "L = [[1, 2, 3], \n",
    "     [4, 5, 6], \n",
    "     [7, 8, 9]]"
   ]
  },
  {
   "cell_type": "code",
   "execution_count": 7,
   "metadata": {},
   "outputs": [],
   "source": [
    "M = np.asarray(L)"
   ]
  },
  {
   "cell_type": "markdown",
   "metadata": {},
   "source": [
    "Will the following instructions work (`Yes` or `No`) ?"
   ]
  },
  {
   "cell_type": "markdown",
   "metadata": {},
   "source": [
    "```python\n",
    ">>> L[0, 1]\n",
    ">>> M[0, 1]\n",
    "```"
   ]
  },
  {
   "cell_type": "markdown",
   "metadata": {},
   "source": [
    "```python\n",
    ">>> L[1]\n",
    ">>> M[1]\n",
    "```"
   ]
  },
  {
   "cell_type": "markdown",
   "metadata": {},
   "source": [
    "**Q**: What will returned by these last two expressions (if any) ?"
   ]
  },
  {
   "cell_type": "markdown",
   "metadata": {},
   "source": [
    "##### 4. Guess the data type (cont.)"
   ]
  },
  {
   "cell_type": "code",
   "execution_count": 8,
   "metadata": {},
   "outputs": [],
   "source": [
    "from sklearn.datasets import load_iris"
   ]
  },
  {
   "cell_type": "code",
   "execution_count": 9,
   "metadata": {},
   "outputs": [],
   "source": [
    "iris = load_iris(return_X_y=True)\n",
    "\n",
    "# What is the type of iris ?\n",
    "# Try to guess it first, then use type(iris) to check your answer"
   ]
  },
  {
   "cell_type": "code",
   "execution_count": 10,
   "metadata": {},
   "outputs": [],
   "source": [
    "iris = load_iris()\n",
    "X, y = iris.data, iris.target\n",
    "\n",
    "# What is the type of X and y ?\n",
    "# Try to guess it first, then use type(X) and/or type(y) to check your answers."
   ]
  },
  {
   "cell_type": "code",
   "execution_count": 11,
   "metadata": {},
   "outputs": [],
   "source": [
    "iris = load_iris(as_frame=True)\n",
    "X, y = iris.data, iris.target\n",
    "\n",
    "# What is the type of X and y ?\n",
    "# Try to guess it first, then use type(X) and/or type(y) to check your answers."
   ]
  },
  {
   "cell_type": "markdown",
   "metadata": {},
   "source": [
    "**Q**: By the way, have you ever wondered which is the type of the `iris` object as returned by the `load_iris()` method?\n",
    "\n",
    "Try to guess it first (*although this might be difficult, `ed.`*) , and then use `type(iris)` to check your answer."
   ]
  },
  {
   "cell_type": "markdown",
   "metadata": {},
   "source": [
    "`Hint`: The following instructions actually works"
   ]
  },
  {
   "cell_type": "code",
   "execution_count": 14,
   "metadata": {},
   "outputs": [
    {
     "data": {
      "text/plain": [
       "dict_keys(['data', 'target', 'frame', 'target_names', 'DESCR', 'feature_names', 'filename'])"
      ]
     },
     "execution_count": 14,
     "metadata": {},
     "output_type": "execute_result"
    }
   ],
   "source": [
    "iris.keys()"
   ]
  },
  {
   "cell_type": "markdown",
   "metadata": {},
   "source": [
    "##### 5. Warm-up Playground\n",
    "\n",
    "Let's play a little bit with data"
   ]
  },
  {
   "cell_type": "markdown",
   "metadata": {},
   "source": [
    "Print the `shape` of `X`"
   ]
  },
  {
   "cell_type": "code",
   "execution_count": 15,
   "metadata": {},
   "outputs": [],
   "source": [
    "# your code here.."
   ]
  },
  {
   "cell_type": "markdown",
   "metadata": {},
   "source": [
    "Print the `shape` of `y`"
   ]
  },
  {
   "cell_type": "code",
   "execution_count": 16,
   "metadata": {},
   "outputs": [],
   "source": [
    "# your code here.."
   ]
  },
  {
   "cell_type": "markdown",
   "metadata": {},
   "source": [
    "Check how many different classes do we have in the Iris dataset"
   ]
  },
  {
   "cell_type": "code",
   "execution_count": 17,
   "metadata": {},
   "outputs": [],
   "source": [
    "# your code here.."
   ]
  },
  {
   "cell_type": "markdown",
   "metadata": {},
   "source": [
    "Select all the samples that belongs to class `setosa`\n",
    "\n",
    "`Hint`: \n",
    "\n",
    "* Use the `target_names` to know which is the label associated to samples in `y`; \n",
    "* Select the label index corresponding to _setosa_\n",
    "* You can use a `boolean` expression to select all the items into an array. Only those items satisfying that condition (`cond(i) == True`) will be returned."
   ]
  },
  {
   "cell_type": "code",
   "execution_count": null,
   "metadata": {},
   "outputs": [],
   "source": [
    "# your code here.."
   ]
  },
  {
   "cell_type": "markdown",
   "metadata": {},
   "source": [
    "#### Well Done 🎉\n",
    "\n",
    "You completed the warm-up section. Now we are ready to start."
   ]
  }
 ],
 "metadata": {
  "kernelspec": {
   "display_name": "Python 3.7 (DL-TORCH)",
   "language": "python",
   "name": "dl-torch"
  },
  "language_info": {
   "codemirror_mode": {
    "name": "ipython",
    "version": 3
   },
   "file_extension": ".py",
   "mimetype": "text/x-python",
   "name": "python",
   "nbconvert_exporter": "python",
   "pygments_lexer": "ipython3",
   "version": "3.7.7"
  }
 },
 "nbformat": 4,
 "nbformat_minor": 4
}
