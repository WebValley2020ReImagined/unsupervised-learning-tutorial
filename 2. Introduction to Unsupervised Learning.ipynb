{
 "cells": [
  {
   "cell_type": "markdown",
   "metadata": {},
   "source": [
    "# Quick journey into Unsupervised Learning"
   ]
  },
  {
   "cell_type": "markdown",
   "metadata": {},
   "source": [
    "> Most of human and animal learning is unsupervised learning. If intelligence was a cake, unsupervised learning would be the cake, supervised learning would be the icing on the cake, and reinforcement learning would be the cherry on the cake. We know how to make the icing and the cherry, but we don’t know how to make the cake. We need to solve the unsupervised learning problem before we can even think of getting to true AI.\n",
    "\n",
    "-- _Yann LeCun_"
   ]
  },
  {
   "cell_type": "markdown",
   "metadata": {},
   "source": [
    "![](https://miro.medium.com/max/1062/1*iRO5wpHndXLmiD_ljoY8zw.png)"
   ]
  },
  {
   "cell_type": "markdown",
   "metadata": {},
   "source": [
    "#### Supervised vs Unsupervised ML Settings"
   ]
  },
  {
   "cell_type": "markdown",
   "metadata": {},
   "source": [
    "In **Supervised Learning**, we have a dataset consisting of both input features and a desired output, such as in the spam / no-spam example.\n",
    "\n",
    "The task is to construct a model (or program) which is able to predict the desired output of an unseen object\n",
    "given the set of features."
   ]
  },
  {
   "cell_type": "markdown",
   "metadata": {},
   "source": [
    "![supervised examples](images/ml_supervised_example.png)"
   ]
  },
  {
   "cell_type": "markdown",
   "metadata": {},
   "source": [
    "Supervised learning is further broken down into two categories, **classification** and **regression**.\n",
    "\n",
    "In classification, the label is discrete (a.k.a. *Categorical Data*, i.e. *Integer values*), such as \"spam\" or \"no spam\". \n",
    "\n",
    "In other words, it provides a clear-cut distinction between categories. \n",
    "\n",
    "In regression, the label is continuous, i.e. *floating point numerical output*."
   ]
  },
  {
   "cell_type": "markdown",
   "metadata": {},
   "source": [
    "---\n",
    "\n",
    "In **Unsupervised Learning** there is no desired output associated with the data.\n",
    "\n",
    "Instead, we are interested in extracting some form of knowledge or model from the given data.\n",
    "\n",
    "In a sense, you can think of unsupervised learning as a means of discovering labels from the data itself.\n",
    "\n",
    "Unsupervised learning comprises tasks such as **dimensionality reduction**, **clustering**, and **feature extraction**. "
   ]
  },
  {
   "cell_type": "markdown",
   "metadata": {},
   "source": [
    "![unsupervised examples](images/ml_unsupervised_example.png)"
   ]
  },
  {
   "cell_type": "markdown",
   "metadata": {},
   "source": [
    "###### Data Workflows"
   ]
  },
  {
   "cell_type": "markdown",
   "metadata": {},
   "source": [
    "**Supervised ML workflow**\n",
    "\n",
    "![supervised workflow](./images/supervised_workflow.svg)"
   ]
  },
  {
   "cell_type": "markdown",
   "metadata": {},
   "source": [
    "**Unsupervised ML workflow**\n",
    "\n",
    "<img src=\"./images/unsupervised_workflow.svg\" class=\"maxw50\" />"
   ]
  },
  {
   "cell_type": "markdown",
   "metadata": {},
   "source": [
    "**It is not two separate worlds though..**\n",
    "\n",
    "##### Unsupervised learning to improve Supervised ML solutions"
   ]
  },
  {
   "cell_type": "markdown",
   "metadata": {},
   "source": [
    "Recent successes in machine learning have been driven by the availability of **lots of data**, advances in computer hardware and cloud-based resources, and breakthroughs in machine learning algorithms. But these successes have been in mostly narrow AI problems such as image classification, computer vision, speech recognition, natural language processing, and machine translation."
   ]
  },
  {
   "cell_type": "markdown",
   "metadata": {},
   "source": [
    "###### Insufficient Labeled data\n",
    "\n",
    "> I think AI is akin to building a rocket ship. You need a huge engine and a lot of fuel. If you have a large engine and a tiny amount of fuel, you won’t make it to orbit. If you have a tiny engine and a ton of fuel, you can’t even lift off. To build a rocket you need a huge engine and a lot of fuel.\n",
    "\n",
    "-- _Andew Ng_"
   ]
  },
  {
   "cell_type": "markdown",
   "metadata": {},
   "source": [
    "If machine learning were a rocket ship, data would be the fuel—without lots\n",
    "and lots of data, the rocket ship cannot fly. But not all data is created equal.\n",
    "To use supervised algorithms, we need lots of labeled data, which is hard and costly to generate.\n",
    "\n",
    "With unsupervised learning, we can automatically label unlabeled examples (**clustering**), or we can also **generate new data** (e.g. Variational Autoencoders, Generative Adversarial Networks). "
   ]
  },
  {
   "cell_type": "markdown",
   "metadata": {},
   "source": [
    "###### Curse of Dimensionality"
   ]
  },
  {
   "cell_type": "markdown",
   "metadata": {},
   "source": [
    "Even with the advances in computational power, big data is hard for machine learning algorithms to manage. In general, adding more instances is not too problematic because we can parallelize operations. \n",
    "\n",
    "However, the **more features** we have, the **more difficult** training becomes.\n",
    "\n",
    "In a very high-dimensional space, supervised algorithms need to learn how to separate points and build a function approximation to make good decisions. \n",
    "\n",
    "When the features are very numerous, this search becomes very expensive, both from a time and compute perspective. In some cases, it may be impossible to find a good solution fast enough.\n",
    "\n",
    "This problem is known as the **curse of dimensionality**, and unsupervised learning is well suited to help manage this. \n",
    "\n",
    "With **dimensionality reduction**, we can find the most salient features in the original feature set, reduce the number of dimensions to a more manageable number while losing very little important information in the process, and then apply supervised algorithms to more efficiently perform the search for a good function approximation. "
   ]
  },
  {
   "cell_type": "markdown",
   "metadata": {},
   "source": [
    "###### Feature Engineering"
   ]
  },
  {
   "cell_type": "markdown",
   "metadata": {},
   "source": [
    "Feature engineering is one of the most vital tasks data scientists perform. \n",
    "\n",
    "Without the **right** features, the machine learning algorithm will not be able to separate points in space well enough to make good decisions on *never-before-seen* examples. \n",
    "\n",
    "In ML jargon, it is very common to repeat the mantra: _Garbage in, Garbage out_ .\n",
    "\n",
    "However, feature engineering is typically very labor-intensive; it requires humans to creatively hand-engineer the right types of features. \n",
    "\n",
    "Instead, we can use **representation learning** from unsupervised learning algorithms to automatically learn the right types of feature representations to help solve the task at hand."
   ]
  },
  {
   "cell_type": "markdown",
   "metadata": {},
   "source": [
    "---"
   ]
  },
  {
   "cell_type": "markdown",
   "metadata": {},
   "source": [
    "## Scikit-learn Cheatsheet\n",
    "\n",
    "_or.. a possible rule-of-thumbs map to guide you through understanding the `Machine learning` $\\mapsto$ `Data` relationship_"
   ]
  },
  {
   "cell_type": "markdown",
   "metadata": {},
   "source": [
    "<img src=\"./images/scikit-learn-cheatsheet.png\" class=\"maxw100\" />"
   ]
  }
 ],
 "metadata": {
  "kernelspec": {
   "display_name": "Python 3.7 (DL-TORCH)",
   "language": "python",
   "name": "dl-torch"
  },
  "language_info": {
   "codemirror_mode": {
    "name": "ipython",
    "version": 3
   },
   "file_extension": ".py",
   "mimetype": "text/x-python",
   "name": "python",
   "nbconvert_exporter": "python",
   "pygments_lexer": "ipython3",
   "version": "3.7.7"
  }
 },
 "nbformat": 4,
 "nbformat_minor": 4
}
